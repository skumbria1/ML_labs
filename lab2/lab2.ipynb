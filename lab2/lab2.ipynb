{
 "cells": [
  {
   "cell_type": "code",
   "execution_count": 1,
   "metadata": {
    "collapsed": true,
    "ExecuteTime": {
     "start_time": "2023-04-15T20:57:42.604131Z",
     "end_time": "2023-04-15T20:57:42.613366Z"
    }
   },
   "outputs": [
    {
     "name": "stdout",
     "output_type": "stream",
     "text": [
      "   CustomerID  Gender  Age  Annual Income ($)  Spending Score (1-100)  \\\n",
      "0           1    Male   19              15000                      39   \n",
      "1           2    Male   21              35000                      81   \n",
      "2           3  Female   20              86000                       6   \n",
      "3           4  Female   23              59000                      77   \n",
      "4           5  Female   31              38000                      40   \n",
      "\n",
      "      Profession  Work Experience  Family Size  \n",
      "0     Healthcare                1            4  \n",
      "1       Engineer                3            3  \n",
      "2       Engineer                1            1  \n",
      "3         Lawyer                0            2  \n",
      "4  Entertainment                2            6  \n"
     ]
    }
   ],
   "source": [
    "import pandas as pd\n",
    "customers_df = pd.read_csv('../Customers.csv')\n",
    "print(customers_df.head())"
   ]
  },
  {
   "cell_type": "code",
   "execution_count": null,
   "outputs": [],
   "source": [],
   "metadata": {
    "collapsed": false
   }
  }
 ],
 "metadata": {
  "kernelspec": {
   "display_name": "Python 3",
   "language": "python",
   "name": "python3"
  },
  "language_info": {
   "codemirror_mode": {
    "name": "ipython",
    "version": 2
   },
   "file_extension": ".py",
   "mimetype": "text/x-python",
   "name": "python",
   "nbconvert_exporter": "python",
   "pygments_lexer": "ipython2",
   "version": "2.7.6"
  }
 },
 "nbformat": 4,
 "nbformat_minor": 0
}
