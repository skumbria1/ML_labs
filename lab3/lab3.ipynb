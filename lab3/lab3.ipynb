{
 "cells": [
  {
   "cell_type": "markdown",
   "metadata": {},
   "source": [
    "Датасет представляет собой набор имитационных данных о клиентах магазина.\n",
    "Источник: https://www.kaggle.com/datasets/vetrirah/customer\n",
    "\n",
    "Атрибуты:\n",
    "1. ID (int) - уникальный ID;\n",
    "2. Gender (str) - пол;\n",
    "3. Ever_Married (str) - человек когда либо был в браке;\n",
    "4. Age (int) - возраст;\n",
    "5. Graduated (str) - имеется ли высшее образование;\n",
    "6. Profession (str) - профессия;\n",
    "7. Work_Experience (float) - опыт работы;\n",
    "8. Spending_Score (str) - категория, присваиваемая магазином на основе расходов;\n",
    "9. Family_Size (float) - количество членов семьи, включая покупателя;\n",
    "10. Var_1 (str) - анонимная категория для клиента;\n",
    "11. Segmentation (str) - сегмент, в который попадает покупатель.\n",
    "\n",
    "Атрибуты Var_1 и Segmentation уберем, так как Var_1 не дает какой-либо\n",
    "информации, Segmentation - так как данный атрибут не указан в Test.csv.\n",
    "Целевым классом обозначим Spending_Score."
   ]
  },
  {
   "cell_type": "code",
   "execution_count": 1,
   "metadata": {
    "ExecuteTime": {
     "end_time": "2023-05-01T10:44:06.351601689Z",
     "start_time": "2023-05-01T10:44:06.302313242Z"
    }
   },
   "outputs": [
    {
     "data": {
      "text/plain": "(10695, 10)"
     },
     "execution_count": 1,
     "metadata": {},
     "output_type": "execute_result"
    }
   ],
   "source": [
    "import pandas as pd\n",
    "\n",
    "train_df = pd.read_csv('Train.csv')\n",
    "train_df.drop(['Segmentation'], axis=1, inplace=True)\n",
    "test_df = pd.read_csv('Test.csv')\n",
    "data = pd.concat([train_df, test_df], ignore_index=True)\n",
    "data.shape"
   ]
  },
  {
   "cell_type": "code",
   "execution_count": 2,
   "metadata": {
    "ExecuteTime": {
     "end_time": "2023-05-01T10:44:09.402424121Z",
     "start_time": "2023-05-01T10:44:09.378919704Z"
    }
   },
   "outputs": [
    {
     "data": {
      "text/plain": "       ID  Gender Ever_Married  Age Graduated     Profession  Work_Experience  \\\n0  462809    Male           No   22        No     Healthcare              1.0   \n1  462643  Female          Yes   38       Yes       Engineer              NaN   \n2  466315  Female          Yes   67       Yes       Engineer              1.0   \n3  461735    Male          Yes   67       Yes         Lawyer              0.0   \n4  462669  Female          Yes   40       Yes  Entertainment              NaN   \n\n  Spending_Score  Family_Size  Var_1  \n0            Low          4.0  Cat_4  \n1        Average          3.0  Cat_4  \n2            Low          1.0  Cat_6  \n3           High          2.0  Cat_6  \n4           High          6.0  Cat_6  ",
      "text/html": "<div>\n<style scoped>\n    .dataframe tbody tr th:only-of-type {\n        vertical-align: middle;\n    }\n\n    .dataframe tbody tr th {\n        vertical-align: top;\n    }\n\n    .dataframe thead th {\n        text-align: right;\n    }\n</style>\n<table border=\"1\" class=\"dataframe\">\n  <thead>\n    <tr style=\"text-align: right;\">\n      <th></th>\n      <th>ID</th>\n      <th>Gender</th>\n      <th>Ever_Married</th>\n      <th>Age</th>\n      <th>Graduated</th>\n      <th>Profession</th>\n      <th>Work_Experience</th>\n      <th>Spending_Score</th>\n      <th>Family_Size</th>\n      <th>Var_1</th>\n    </tr>\n  </thead>\n  <tbody>\n    <tr>\n      <th>0</th>\n      <td>462809</td>\n      <td>Male</td>\n      <td>No</td>\n      <td>22</td>\n      <td>No</td>\n      <td>Healthcare</td>\n      <td>1.0</td>\n      <td>Low</td>\n      <td>4.0</td>\n      <td>Cat_4</td>\n    </tr>\n    <tr>\n      <th>1</th>\n      <td>462643</td>\n      <td>Female</td>\n      <td>Yes</td>\n      <td>38</td>\n      <td>Yes</td>\n      <td>Engineer</td>\n      <td>NaN</td>\n      <td>Average</td>\n      <td>3.0</td>\n      <td>Cat_4</td>\n    </tr>\n    <tr>\n      <th>2</th>\n      <td>466315</td>\n      <td>Female</td>\n      <td>Yes</td>\n      <td>67</td>\n      <td>Yes</td>\n      <td>Engineer</td>\n      <td>1.0</td>\n      <td>Low</td>\n      <td>1.0</td>\n      <td>Cat_6</td>\n    </tr>\n    <tr>\n      <th>3</th>\n      <td>461735</td>\n      <td>Male</td>\n      <td>Yes</td>\n      <td>67</td>\n      <td>Yes</td>\n      <td>Lawyer</td>\n      <td>0.0</td>\n      <td>High</td>\n      <td>2.0</td>\n      <td>Cat_6</td>\n    </tr>\n    <tr>\n      <th>4</th>\n      <td>462669</td>\n      <td>Female</td>\n      <td>Yes</td>\n      <td>40</td>\n      <td>Yes</td>\n      <td>Entertainment</td>\n      <td>NaN</td>\n      <td>High</td>\n      <td>6.0</td>\n      <td>Cat_6</td>\n    </tr>\n  </tbody>\n</table>\n</div>"
     },
     "execution_count": 2,
     "metadata": {},
     "output_type": "execute_result"
    }
   ],
   "source": [
    "data.head()"
   ]
  },
  {
   "cell_type": "code",
   "execution_count": 3,
   "metadata": {
    "ExecuteTime": {
     "end_time": "2023-05-01T10:44:11.153690259Z",
     "start_time": "2023-05-01T10:44:11.141736052Z"
    }
   },
   "outputs": [
    {
     "data": {
      "text/plain": "   Gender Ever_Married  Age Graduated     Profession  Work_Experience  \\\n0    Male           No   22        No     Healthcare              1.0   \n1  Female          Yes   38       Yes       Engineer              NaN   \n2  Female          Yes   67       Yes       Engineer              1.0   \n3    Male          Yes   67       Yes         Lawyer              0.0   \n4  Female          Yes   40       Yes  Entertainment              NaN   \n\n  Spending_Score  Family_Size  \n0            Low          4.0  \n1        Average          3.0  \n2            Low          1.0  \n3           High          2.0  \n4           High          6.0  ",
      "text/html": "<div>\n<style scoped>\n    .dataframe tbody tr th:only-of-type {\n        vertical-align: middle;\n    }\n\n    .dataframe tbody tr th {\n        vertical-align: top;\n    }\n\n    .dataframe thead th {\n        text-align: right;\n    }\n</style>\n<table border=\"1\" class=\"dataframe\">\n  <thead>\n    <tr style=\"text-align: right;\">\n      <th></th>\n      <th>Gender</th>\n      <th>Ever_Married</th>\n      <th>Age</th>\n      <th>Graduated</th>\n      <th>Profession</th>\n      <th>Work_Experience</th>\n      <th>Spending_Score</th>\n      <th>Family_Size</th>\n    </tr>\n  </thead>\n  <tbody>\n    <tr>\n      <th>0</th>\n      <td>Male</td>\n      <td>No</td>\n      <td>22</td>\n      <td>No</td>\n      <td>Healthcare</td>\n      <td>1.0</td>\n      <td>Low</td>\n      <td>4.0</td>\n    </tr>\n    <tr>\n      <th>1</th>\n      <td>Female</td>\n      <td>Yes</td>\n      <td>38</td>\n      <td>Yes</td>\n      <td>Engineer</td>\n      <td>NaN</td>\n      <td>Average</td>\n      <td>3.0</td>\n    </tr>\n    <tr>\n      <th>2</th>\n      <td>Female</td>\n      <td>Yes</td>\n      <td>67</td>\n      <td>Yes</td>\n      <td>Engineer</td>\n      <td>1.0</td>\n      <td>Low</td>\n      <td>1.0</td>\n    </tr>\n    <tr>\n      <th>3</th>\n      <td>Male</td>\n      <td>Yes</td>\n      <td>67</td>\n      <td>Yes</td>\n      <td>Lawyer</td>\n      <td>0.0</td>\n      <td>High</td>\n      <td>2.0</td>\n    </tr>\n    <tr>\n      <th>4</th>\n      <td>Female</td>\n      <td>Yes</td>\n      <td>40</td>\n      <td>Yes</td>\n      <td>Entertainment</td>\n      <td>NaN</td>\n      <td>High</td>\n      <td>6.0</td>\n    </tr>\n  </tbody>\n</table>\n</div>"
     },
     "execution_count": 3,
     "metadata": {},
     "output_type": "execute_result"
    }
   ],
   "source": [
    "data.drop(['ID', 'Var_1'], axis=1, inplace=True)\n",
    "data.head()"
   ]
  },
  {
   "cell_type": "code",
   "execution_count": 4,
   "metadata": {
    "ExecuteTime": {
     "end_time": "2023-05-01T10:44:12.359700839Z",
     "start_time": "2023-05-01T10:44:12.355023992Z"
    }
   },
   "outputs": [
    {
     "data": {
      "text/plain": "Gender              object\nEver_Married        object\nAge                  int64\nGraduated           object\nProfession          object\nWork_Experience    float64\nSpending_Score      object\nFamily_Size        float64\ndtype: object"
     },
     "execution_count": 4,
     "metadata": {},
     "output_type": "execute_result"
    }
   ],
   "source": [
    "data.dtypes"
   ]
  },
  {
   "cell_type": "code",
   "execution_count": 5,
   "metadata": {
    "ExecuteTime": {
     "end_time": "2023-05-01T10:44:13.761598704Z",
     "start_time": "2023-05-01T10:44:13.747397445Z"
    }
   },
   "outputs": [
    {
     "data": {
      "text/plain": "Gender             object\nEver_Married       object\nAge                 int64\nGraduated          object\nProfession         object\nWork_Experience     Int64\nSpending_Score     object\nFamily_Size         Int64\ndtype: object"
     },
     "execution_count": 5,
     "metadata": {},
     "output_type": "execute_result"
    }
   ],
   "source": [
    "data['Work_Experience'] = (pd.to_numeric(data['Work_Experience'], errors='coerce')\n",
    "    .astype('Int64'))\n",
    "data['Family_Size'] = (pd.to_numeric(data['Family_Size'], errors='coerce')\n",
    "    .astype('Int64'))\n",
    "data.dtypes"
   ]
  },
  {
   "cell_type": "code",
   "execution_count": 6,
   "metadata": {
    "ExecuteTime": {
     "end_time": "2023-05-01T10:44:15.914111045Z",
     "start_time": "2023-05-01T10:44:15.886767212Z"
    }
   },
   "outputs": [
    {
     "data": {
      "text/plain": "Gender                0\nEver_Married        190\nAge                   0\nGraduated           102\nProfession          162\nWork_Experience    1098\nSpending_Score        0\nFamily_Size         448\ndtype: int64"
     },
     "execution_count": 6,
     "metadata": {},
     "output_type": "execute_result"
    }
   ],
   "source": [
    "data.isna().sum()"
   ]
  },
  {
   "cell_type": "markdown",
   "metadata": {},
   "source": [
    "Пустые значения во всех полях, кроме Work_Experience и Family_Size, заполним\n",
    "с помощью ffill(), так как количество пропущенных значений составляет малую\n",
    "часть данных. Пустые значения в Work_Experience и Family_Size заменим\n",
    "медианой, чтобы не поменять вид распределения данных."
   ]
  },
  {
   "cell_type": "code",
   "execution_count": 7,
   "metadata": {
    "ExecuteTime": {
     "end_time": "2023-05-01T10:44:19.034298987Z",
     "start_time": "2023-05-01T10:44:18.987188342Z"
    }
   },
   "outputs": [
    {
     "data": {
      "text/plain": "Gender             0\nEver_Married       0\nAge                0\nGraduated          0\nProfession         0\nWork_Experience    0\nSpending_Score     0\nFamily_Size        0\ndtype: int64"
     },
     "execution_count": 7,
     "metadata": {},
     "output_type": "execute_result"
    }
   ],
   "source": [
    "data['Ever_Married'].ffill(inplace=True)\n",
    "data['Profession'].ffill(inplace=True)\n",
    "data['Graduated'].ffill(inplace=True)\n",
    "data['Work_Experience'].fillna(data['Work_Experience'].median(), inplace=True)\n",
    "data['Family_Size'].fillna(data['Family_Size'].median(), inplace=True)\n",
    "data.isna().sum()"
   ]
  },
  {
   "cell_type": "code",
   "execution_count": 8,
   "metadata": {
    "ExecuteTime": {
     "end_time": "2023-05-01T10:44:21.372128861Z",
     "start_time": "2023-05-01T10:44:21.362171617Z"
    }
   },
   "outputs": [
    {
     "name": "stdout",
     "output_type": "stream",
     "text": [
      "Rows before cleanup: 10695\n",
      "Rows after cleanup: 10695\n"
     ]
    }
   ],
   "source": [
    "print(f'Rows before cleanup: {len(data)}')\n",
    "data = data[\n",
    "    (data['Age'] > data['Work_Experience'])\n",
    "    & (data['Family_Size'] > 0)\n",
    "]\n",
    "print(f'Rows after cleanup: {len(data)}')"
   ]
  },
  {
   "cell_type": "markdown",
   "source": [
    "Применим One-Hot-Encoding для категориальных признаков."
   ],
   "metadata": {
    "collapsed": false
   }
  },
  {
   "cell_type": "code",
   "execution_count": 9,
   "outputs": [
    {
     "data": {
      "text/plain": "   Gender Ever_Married  Age Graduated     Profession  Work_Experience  \\\n0    Male           No   22        No     Healthcare                1   \n1  Female          Yes   38       Yes       Engineer                1   \n2  Female          Yes   67       Yes       Engineer                1   \n3    Male          Yes   67       Yes         Lawyer                0   \n4  Female          Yes   40       Yes  Entertainment                1   \n\n  Spending_Score  Family_Size  Gender_Female  Gender_Male  ...  Graduated_Yes  \\\n0            Low            4              0            1  ...              0   \n1        Average            3              1            0  ...              1   \n2            Low            1              1            0  ...              1   \n3           High            2              0            1  ...              1   \n4           High            6              1            0  ...              1   \n\n   Profession_Artist  Profession_Doctor  Profession_Engineer  \\\n0                  0                  0                    0   \n1                  0                  0                    1   \n2                  0                  0                    1   \n3                  0                  0                    0   \n4                  0                  0                    0   \n\n   Profession_Entertainment  Profession_Executive  Profession_Healthcare  \\\n0                         0                     0                      1   \n1                         0                     0                      0   \n2                         0                     0                      0   \n3                         0                     0                      0   \n4                         1                     0                      0   \n\n   Profession_Homemaker  Profession_Lawyer  Profession_Marketing  \n0                     0                  0                     0  \n1                     0                  0                     0  \n2                     0                  0                     0  \n3                     0                  1                     0  \n4                     0                  0                     0  \n\n[5 rows x 23 columns]",
      "text/html": "<div>\n<style scoped>\n    .dataframe tbody tr th:only-of-type {\n        vertical-align: middle;\n    }\n\n    .dataframe tbody tr th {\n        vertical-align: top;\n    }\n\n    .dataframe thead th {\n        text-align: right;\n    }\n</style>\n<table border=\"1\" class=\"dataframe\">\n  <thead>\n    <tr style=\"text-align: right;\">\n      <th></th>\n      <th>Gender</th>\n      <th>Ever_Married</th>\n      <th>Age</th>\n      <th>Graduated</th>\n      <th>Profession</th>\n      <th>Work_Experience</th>\n      <th>Spending_Score</th>\n      <th>Family_Size</th>\n      <th>Gender_Female</th>\n      <th>Gender_Male</th>\n      <th>...</th>\n      <th>Graduated_Yes</th>\n      <th>Profession_Artist</th>\n      <th>Profession_Doctor</th>\n      <th>Profession_Engineer</th>\n      <th>Profession_Entertainment</th>\n      <th>Profession_Executive</th>\n      <th>Profession_Healthcare</th>\n      <th>Profession_Homemaker</th>\n      <th>Profession_Lawyer</th>\n      <th>Profession_Marketing</th>\n    </tr>\n  </thead>\n  <tbody>\n    <tr>\n      <th>0</th>\n      <td>Male</td>\n      <td>No</td>\n      <td>22</td>\n      <td>No</td>\n      <td>Healthcare</td>\n      <td>1</td>\n      <td>Low</td>\n      <td>4</td>\n      <td>0</td>\n      <td>1</td>\n      <td>...</td>\n      <td>0</td>\n      <td>0</td>\n      <td>0</td>\n      <td>0</td>\n      <td>0</td>\n      <td>0</td>\n      <td>1</td>\n      <td>0</td>\n      <td>0</td>\n      <td>0</td>\n    </tr>\n    <tr>\n      <th>1</th>\n      <td>Female</td>\n      <td>Yes</td>\n      <td>38</td>\n      <td>Yes</td>\n      <td>Engineer</td>\n      <td>1</td>\n      <td>Average</td>\n      <td>3</td>\n      <td>1</td>\n      <td>0</td>\n      <td>...</td>\n      <td>1</td>\n      <td>0</td>\n      <td>0</td>\n      <td>1</td>\n      <td>0</td>\n      <td>0</td>\n      <td>0</td>\n      <td>0</td>\n      <td>0</td>\n      <td>0</td>\n    </tr>\n    <tr>\n      <th>2</th>\n      <td>Female</td>\n      <td>Yes</td>\n      <td>67</td>\n      <td>Yes</td>\n      <td>Engineer</td>\n      <td>1</td>\n      <td>Low</td>\n      <td>1</td>\n      <td>1</td>\n      <td>0</td>\n      <td>...</td>\n      <td>1</td>\n      <td>0</td>\n      <td>0</td>\n      <td>1</td>\n      <td>0</td>\n      <td>0</td>\n      <td>0</td>\n      <td>0</td>\n      <td>0</td>\n      <td>0</td>\n    </tr>\n    <tr>\n      <th>3</th>\n      <td>Male</td>\n      <td>Yes</td>\n      <td>67</td>\n      <td>Yes</td>\n      <td>Lawyer</td>\n      <td>0</td>\n      <td>High</td>\n      <td>2</td>\n      <td>0</td>\n      <td>1</td>\n      <td>...</td>\n      <td>1</td>\n      <td>0</td>\n      <td>0</td>\n      <td>0</td>\n      <td>0</td>\n      <td>0</td>\n      <td>0</td>\n      <td>0</td>\n      <td>1</td>\n      <td>0</td>\n    </tr>\n    <tr>\n      <th>4</th>\n      <td>Female</td>\n      <td>Yes</td>\n      <td>40</td>\n      <td>Yes</td>\n      <td>Entertainment</td>\n      <td>1</td>\n      <td>High</td>\n      <td>6</td>\n      <td>1</td>\n      <td>0</td>\n      <td>...</td>\n      <td>1</td>\n      <td>0</td>\n      <td>0</td>\n      <td>0</td>\n      <td>1</td>\n      <td>0</td>\n      <td>0</td>\n      <td>0</td>\n      <td>0</td>\n      <td>0</td>\n    </tr>\n  </tbody>\n</table>\n<p>5 rows × 23 columns</p>\n</div>"
     },
     "execution_count": 9,
     "metadata": {},
     "output_type": "execute_result"
    }
   ],
   "source": [
    "data = pd.concat(\n",
    "    [\n",
    "        data,\n",
    "        pd.get_dummies(data['Gender'], prefix='Gender'),\n",
    "        pd.get_dummies(data['Ever_Married'], prefix='Ever_Married'),\n",
    "        pd.get_dummies(data['Graduated'], prefix='Graduated'),\n",
    "        pd.get_dummies(data['Profession'], prefix='Profession'),\n",
    "    ],\n",
    "    axis=1\n",
    ")\n",
    "data.head()"
   ],
   "metadata": {
    "collapsed": false,
    "ExecuteTime": {
     "end_time": "2023-05-01T10:59:17.389063954Z",
     "start_time": "2023-05-01T10:59:17.298298833Z"
    }
   }
  },
  {
   "cell_type": "code",
   "execution_count": 10,
   "outputs": [
    {
     "data": {
      "text/plain": "(10695, 19)"
     },
     "execution_count": 10,
     "metadata": {},
     "output_type": "execute_result"
    }
   ],
   "source": [
    "data.drop(\n",
    "    [\n",
    "        'Gender',\n",
    "        'Ever_Married',\n",
    "        'Graduated',\n",
    "        'Profession'\n",
    "    ],\n",
    "    axis=1,\n",
    "    inplace=True\n",
    ")\n",
    "data.shape"
   ],
   "metadata": {
    "collapsed": false,
    "ExecuteTime": {
     "end_time": "2023-05-01T11:11:47.638595231Z",
     "start_time": "2023-05-01T11:11:47.574383141Z"
    }
   }
  },
  {
   "cell_type": "markdown",
   "source": [
    "Задачей будет определить Spending_Score покупателя, нас будут интересовать\n",
    "покупатели со средним и высоким показателем."
   ],
   "metadata": {
    "collapsed": false
   }
  },
  {
   "cell_type": "code",
   "execution_count": 11,
   "outputs": [
    {
     "data": {
      "text/plain": "   Age  Work_Experience  Spending_Score  Family_Size  Gender_Female  \\\n0   22                1               0            4              0   \n1   38                1               1            3              1   \n2   67                1               0            1              1   \n3   67                0               1            2              0   \n4   40                1               1            6              1   \n\n   Gender_Male  Ever_Married_No  Ever_Married_Yes  Graduated_No  \\\n0            1                1                 0             1   \n1            0                0                 1             0   \n2            0                0                 1             0   \n3            1                0                 1             0   \n4            0                0                 1             0   \n\n   Graduated_Yes  Profession_Artist  Profession_Doctor  Profession_Engineer  \\\n0              0                  0                  0                    0   \n1              1                  0                  0                    1   \n2              1                  0                  0                    1   \n3              1                  0                  0                    0   \n4              1                  0                  0                    0   \n\n   Profession_Entertainment  Profession_Executive  Profession_Healthcare  \\\n0                         0                     0                      1   \n1                         0                     0                      0   \n2                         0                     0                      0   \n3                         0                     0                      0   \n4                         1                     0                      0   \n\n   Profession_Homemaker  Profession_Lawyer  Profession_Marketing  \n0                     0                  0                     0  \n1                     0                  0                     0  \n2                     0                  0                     0  \n3                     0                  1                     0  \n4                     0                  0                     0  ",
      "text/html": "<div>\n<style scoped>\n    .dataframe tbody tr th:only-of-type {\n        vertical-align: middle;\n    }\n\n    .dataframe tbody tr th {\n        vertical-align: top;\n    }\n\n    .dataframe thead th {\n        text-align: right;\n    }\n</style>\n<table border=\"1\" class=\"dataframe\">\n  <thead>\n    <tr style=\"text-align: right;\">\n      <th></th>\n      <th>Age</th>\n      <th>Work_Experience</th>\n      <th>Spending_Score</th>\n      <th>Family_Size</th>\n      <th>Gender_Female</th>\n      <th>Gender_Male</th>\n      <th>Ever_Married_No</th>\n      <th>Ever_Married_Yes</th>\n      <th>Graduated_No</th>\n      <th>Graduated_Yes</th>\n      <th>Profession_Artist</th>\n      <th>Profession_Doctor</th>\n      <th>Profession_Engineer</th>\n      <th>Profession_Entertainment</th>\n      <th>Profession_Executive</th>\n      <th>Profession_Healthcare</th>\n      <th>Profession_Homemaker</th>\n      <th>Profession_Lawyer</th>\n      <th>Profession_Marketing</th>\n    </tr>\n  </thead>\n  <tbody>\n    <tr>\n      <th>0</th>\n      <td>22</td>\n      <td>1</td>\n      <td>0</td>\n      <td>4</td>\n      <td>0</td>\n      <td>1</td>\n      <td>1</td>\n      <td>0</td>\n      <td>1</td>\n      <td>0</td>\n      <td>0</td>\n      <td>0</td>\n      <td>0</td>\n      <td>0</td>\n      <td>0</td>\n      <td>1</td>\n      <td>0</td>\n      <td>0</td>\n      <td>0</td>\n    </tr>\n    <tr>\n      <th>1</th>\n      <td>38</td>\n      <td>1</td>\n      <td>1</td>\n      <td>3</td>\n      <td>1</td>\n      <td>0</td>\n      <td>0</td>\n      <td>1</td>\n      <td>0</td>\n      <td>1</td>\n      <td>0</td>\n      <td>0</td>\n      <td>1</td>\n      <td>0</td>\n      <td>0</td>\n      <td>0</td>\n      <td>0</td>\n      <td>0</td>\n      <td>0</td>\n    </tr>\n    <tr>\n      <th>2</th>\n      <td>67</td>\n      <td>1</td>\n      <td>0</td>\n      <td>1</td>\n      <td>1</td>\n      <td>0</td>\n      <td>0</td>\n      <td>1</td>\n      <td>0</td>\n      <td>1</td>\n      <td>0</td>\n      <td>0</td>\n      <td>1</td>\n      <td>0</td>\n      <td>0</td>\n      <td>0</td>\n      <td>0</td>\n      <td>0</td>\n      <td>0</td>\n    </tr>\n    <tr>\n      <th>3</th>\n      <td>67</td>\n      <td>0</td>\n      <td>1</td>\n      <td>2</td>\n      <td>0</td>\n      <td>1</td>\n      <td>0</td>\n      <td>1</td>\n      <td>0</td>\n      <td>1</td>\n      <td>0</td>\n      <td>0</td>\n      <td>0</td>\n      <td>0</td>\n      <td>0</td>\n      <td>0</td>\n      <td>0</td>\n      <td>1</td>\n      <td>0</td>\n    </tr>\n    <tr>\n      <th>4</th>\n      <td>40</td>\n      <td>1</td>\n      <td>1</td>\n      <td>6</td>\n      <td>1</td>\n      <td>0</td>\n      <td>0</td>\n      <td>1</td>\n      <td>0</td>\n      <td>1</td>\n      <td>0</td>\n      <td>0</td>\n      <td>0</td>\n      <td>1</td>\n      <td>0</td>\n      <td>0</td>\n      <td>0</td>\n      <td>0</td>\n      <td>0</td>\n    </tr>\n  </tbody>\n</table>\n</div>"
     },
     "execution_count": 11,
     "metadata": {},
     "output_type": "execute_result"
    }
   ],
   "source": [
    "spending_score_replace = {'Low': 0, 'Average': 1, 'High': 1}\n",
    "data['Spending_Score'].replace(spending_score_replace, inplace=True)\n",
    "data.head()"
   ],
   "metadata": {
    "collapsed": false,
    "ExecuteTime": {
     "end_time": "2023-05-01T11:17:46.030494972Z",
     "start_time": "2023-05-01T11:17:45.982300505Z"
    }
   }
  },
  {
   "cell_type": "code",
   "execution_count": 13,
   "outputs": [
    {
     "name": "stdout",
     "output_type": "stream",
     "text": [
      "<class 'pandas.core.frame.DataFrame'>\n",
      "Int64Index: 10695 entries, 0 to 10694\n",
      "Data columns (total 19 columns):\n",
      " #   Column                    Non-Null Count  Dtype\n",
      "---  ------                    --------------  -----\n",
      " 0   Age                       10695 non-null  int64\n",
      " 1   Work_Experience           10695 non-null  Int64\n",
      " 2   Spending_Score            10695 non-null  int64\n",
      " 3   Family_Size               10695 non-null  Int64\n",
      " 4   Gender_Female             10695 non-null  uint8\n",
      " 5   Gender_Male               10695 non-null  uint8\n",
      " 6   Ever_Married_No           10695 non-null  uint8\n",
      " 7   Ever_Married_Yes          10695 non-null  uint8\n",
      " 8   Graduated_No              10695 non-null  uint8\n",
      " 9   Graduated_Yes             10695 non-null  uint8\n",
      " 10  Profession_Artist         10695 non-null  uint8\n",
      " 11  Profession_Doctor         10695 non-null  uint8\n",
      " 12  Profession_Engineer       10695 non-null  uint8\n",
      " 13  Profession_Entertainment  10695 non-null  uint8\n",
      " 14  Profession_Executive      10695 non-null  uint8\n",
      " 15  Profession_Healthcare     10695 non-null  uint8\n",
      " 16  Profession_Homemaker      10695 non-null  uint8\n",
      " 17  Profession_Lawyer         10695 non-null  uint8\n",
      " 18  Profession_Marketing      10695 non-null  uint8\n",
      "dtypes: Int64(2), int64(2), uint8(15)\n",
      "memory usage: 595.3 KB\n"
     ]
    }
   ],
   "source": [
    "data.info()"
   ],
   "metadata": {
    "collapsed": false,
    "ExecuteTime": {
     "end_time": "2023-05-01T12:10:37.601242655Z",
     "start_time": "2023-05-01T12:10:37.556827322Z"
    }
   }
  },
  {
   "cell_type": "code",
   "execution_count": 14,
   "outputs": [
    {
     "data": {
      "text/plain": "((10695, 18), (10695,))"
     },
     "execution_count": 14,
     "metadata": {},
     "output_type": "execute_result"
    }
   ],
   "source": [
    "y = data['Spending_Score']\n",
    "x = data.drop('Spending_Score', axis=1)\n",
    "x.shape, y.shape"
   ],
   "metadata": {
    "collapsed": false,
    "ExecuteTime": {
     "end_time": "2023-05-01T12:14:09.177727166Z",
     "start_time": "2023-05-01T12:14:09.138886603Z"
    }
   }
  },
  {
   "cell_type": "code",
   "execution_count": 0,
   "outputs": [],
   "source": [
    "from sklearn.model_selection import train_test_split, cross_val_score\n",
    "from sklearn.tree import DecisionTreeClassifier"
   ],
   "metadata": {
    "collapsed": false
   }
  },
  {
   "cell_type": "code",
   "execution_count": 15,
   "outputs": [
    {
     "data": {
      "text/plain": "array([0.81508678, 0.80227121, 0.82698731, 0.82765531, 0.7989312 ])"
     },
     "execution_count": 15,
     "metadata": {},
     "output_type": "execute_result"
    }
   ],
   "source": [
    "x_train, x_valid, y_train, y_valid = train_test_split(x, y, test_size=0.3,\n",
    "                                                      random_state=17)\n",
    "first_tree = DecisionTreeClassifier(random_state=17)\n",
    "cross_val_score(first_tree, x_train, y_train, cv=5)"
   ],
   "metadata": {
    "collapsed": false,
    "ExecuteTime": {
     "end_time": "2023-05-01T12:30:01.376622419Z",
     "start_time": "2023-05-01T12:30:00.980553281Z"
    }
   }
  },
  {
   "cell_type": "code",
   "execution_count": 16,
   "outputs": [
    {
     "data": {
      "text/plain": "0.8141863611513191"
     },
     "execution_count": 16,
     "metadata": {},
     "output_type": "execute_result"
    }
   ],
   "source": [
    "import numpy as np\n",
    "\n",
    "np.mean(cross_val_score(first_tree, x_train, y_train, cv=5))"
   ],
   "metadata": {
    "collapsed": false,
    "ExecuteTime": {
     "end_time": "2023-05-01T12:33:14.539034381Z",
     "start_time": "2023-05-01T12:33:14.472119224Z"
    }
   }
  },
  {
   "cell_type": "code",
   "execution_count": 17,
   "outputs": [],
   "source": [
    "from sklearn.neighbors import KNeighborsClassifier"
   ],
   "metadata": {
    "collapsed": false,
    "ExecuteTime": {
     "end_time": "2023-05-01T12:34:07.689716565Z",
     "start_time": "2023-05-01T12:34:07.629664542Z"
    }
   }
  },
  {
   "cell_type": "code",
   "execution_count": 18,
   "outputs": [
    {
     "data": {
      "text/plain": "0.8132508898526917"
     },
     "execution_count": 18,
     "metadata": {},
     "output_type": "execute_result"
    }
   ],
   "source": [
    "first_knn = KNeighborsClassifier()\n",
    "np.mean(cross_val_score(first_knn, x_train, y_train, cv=5))"
   ],
   "metadata": {
    "collapsed": false,
    "ExecuteTime": {
     "end_time": "2023-05-01T12:34:54.548406945Z",
     "start_time": "2023-05-01T12:34:54.259053064Z"
    }
   }
  },
  {
   "cell_type": "markdown",
   "source": [
    "Настроим max_depth и max_features для дерева"
   ],
   "metadata": {
    "collapsed": false
   }
  },
  {
   "cell_type": "code",
   "execution_count": 19,
   "outputs": [],
   "source": [
    "from sklearn.model_selection import GridSearchCV"
   ],
   "metadata": {
    "collapsed": false,
    "ExecuteTime": {
     "end_time": "2023-05-01T13:08:11.771278379Z",
     "start_time": "2023-05-01T13:08:11.718689986Z"
    }
   }
  },
  {
   "cell_type": "code",
   "execution_count": 20,
   "outputs": [],
   "source": [
    "tree_params = {'max_depth': np.arange(1, 11), 'max_features': [0.5, 0.7, 1.0]}"
   ],
   "metadata": {
    "collapsed": false,
    "ExecuteTime": {
     "end_time": "2023-05-01T13:18:01.664503043Z",
     "start_time": "2023-05-01T13:18:01.618588971Z"
    }
   }
  },
  {
   "cell_type": "code",
   "execution_count": 36,
   "outputs": [],
   "source": [
    "tree_grid = GridSearchCV(first_tree, tree_params, cv=5, n_jobs=-1)"
   ],
   "metadata": {
    "collapsed": false,
    "ExecuteTime": {
     "end_time": "2023-05-01T13:53:01.987442110Z",
     "start_time": "2023-05-01T13:53:01.888938863Z"
    }
   }
  },
  {
   "cell_type": "code",
   "execution_count": 37,
   "outputs": [
    {
     "name": "stdout",
     "output_type": "stream",
     "text": [
      "CPU times: user 217 ms, sys: 57.3 ms, total: 274 ms\n",
      "Wall time: 1.31 s\n"
     ]
    }
   ],
   "source": [
    "%%time\n",
    "tree_grid.fit(x_train, y_train);"
   ],
   "metadata": {
    "collapsed": false,
    "ExecuteTime": {
     "end_time": "2023-05-01T13:54:45.462990130Z",
     "start_time": "2023-05-01T13:54:44.147327707Z"
    }
   }
  },
  {
   "cell_type": "code",
   "execution_count": 40,
   "outputs": [
    {
     "data": {
      "text/plain": "({'max_depth': 2, 'max_features': 0.7}, 0.8674846800855829)"
     },
     "execution_count": 40,
     "metadata": {},
     "output_type": "execute_result"
    }
   ],
   "source": [
    "tree_grid.best_params_, tree_grid.best_score_"
   ],
   "metadata": {
    "collapsed": false,
    "ExecuteTime": {
     "end_time": "2023-05-01T13:57:55.196294726Z",
     "start_time": "2023-05-01T13:57:55.129030333Z"
    }
   }
  },
  {
   "cell_type": "markdown",
   "source": [
    "Лучшим сочетанием параметров оказалось глубина 2 и 70% атрибутов с долей\n",
    "правильных ответов 86.7, что на 5 больше, чем для дерева с настройками по\n",
    "умолчанию. Теперь будем искать лучшие параметры для алгоритма knn."
   ],
   "metadata": {
    "collapsed": false
   }
  },
  {
   "cell_type": "code",
   "execution_count": 41,
   "outputs": [],
   "source": [
    "knn_params = {'n_neighbors': [1, 2, 3, 4] + list(range(50, 100, 10))}"
   ],
   "metadata": {
    "collapsed": false,
    "ExecuteTime": {
     "end_time": "2023-05-01T14:06:51.906396329Z",
     "start_time": "2023-05-01T14:06:51.850207236Z"
    }
   }
  },
  {
   "cell_type": "code",
   "execution_count": 42,
   "outputs": [],
   "source": [
    "knn_grid = GridSearchCV(first_knn, knn_params, cv=5, n_jobs=-1)"
   ],
   "metadata": {
    "collapsed": false,
    "ExecuteTime": {
     "end_time": "2023-05-01T14:07:26.778289531Z",
     "start_time": "2023-05-01T14:07:26.758704941Z"
    }
   }
  },
  {
   "cell_type": "code",
   "execution_count": 44,
   "outputs": [
    {
     "name": "stdout",
     "output_type": "stream",
     "text": [
      "CPU times: user 49.1 ms, sys: 8.11 ms, total: 57.2 ms\n",
      "Wall time: 939 ms\n"
     ]
    }
   ],
   "source": [
    "%%time\n",
    "knn_grid.fit(x_train, y_train);"
   ],
   "metadata": {
    "collapsed": false,
    "ExecuteTime": {
     "end_time": "2023-05-01T14:07:53.249779637Z",
     "start_time": "2023-05-01T14:07:52.307786807Z"
    }
   }
  },
  {
   "cell_type": "code",
   "execution_count": 45,
   "outputs": [
    {
     "data": {
      "text/plain": "({'n_neighbors': 3}, 0.8085754954501793)"
     },
     "execution_count": 45,
     "metadata": {},
     "output_type": "execute_result"
    }
   ],
   "source": [
    "knn_grid.best_params_, knn_grid.best_score_"
   ],
   "metadata": {
    "collapsed": false,
    "ExecuteTime": {
     "end_time": "2023-05-01T14:08:25.533133975Z",
     "start_time": "2023-05-01T14:08:25.496528331Z"
    }
   }
  },
  {
   "cell_type": "markdown",
   "source": [
    "Для алгоритма knn оптимальным количеством соседей оказалось 3 с долей\n",
    "правильных ответов 80.8%. Сравним два алгоритма на отложенной выборке с\n",
    "помощью различных метрик."
   ],
   "metadata": {
    "collapsed": false
   }
  },
  {
   "cell_type": "code",
   "execution_count": 46,
   "outputs": [],
   "source": [
    "from sklearn.metrics import (accuracy_score, precision_score, recall_score,\n",
    "    f1_score, roc_auc_score)"
   ],
   "metadata": {
    "collapsed": false,
    "ExecuteTime": {
     "end_time": "2023-05-01T14:15:05.363281813Z",
     "start_time": "2023-05-01T14:15:05.317982863Z"
    }
   }
  },
  {
   "cell_type": "code",
   "execution_count": 48,
   "outputs": [
    {
     "name": "stdout",
     "output_type": "stream",
     "text": [
      "Доля правильных ответов\n",
      "Дерево: 0.869741352446245\n",
      "knn: 0.8139607354315986\n"
     ]
    }
   ],
   "source": [
    "print('Доля правильных ответов')\n",
    "print(f'Дерево: {accuracy_score(y_valid, tree_grid.predict(x_valid))}')\n",
    "print(f'knn: {accuracy_score(y_valid, knn_grid.predict(x_valid))}')"
   ],
   "metadata": {
    "collapsed": false,
    "ExecuteTime": {
     "end_time": "2023-05-01T14:17:50.274720104Z",
     "start_time": "2023-05-01T14:17:50.038979126Z"
    }
   }
  },
  {
   "cell_type": "code",
   "execution_count": 49,
   "outputs": [
    {
     "name": "stdout",
     "output_type": "stream",
     "text": [
      "Точность\n",
      "Дерево: 0.7538273116962645\n",
      "knn: 0.7298444130127298\n"
     ]
    }
   ],
   "source": [
    "print('Точность')\n",
    "print(f'Дерево: {precision_score(y_valid, tree_grid.predict(x_valid))}')\n",
    "print(f'knn: {precision_score(y_valid, knn_grid.predict(x_valid))}')"
   ],
   "metadata": {
    "collapsed": false,
    "ExecuteTime": {
     "end_time": "2023-05-01T14:19:57.455036849Z",
     "start_time": "2023-05-01T14:19:57.308931447Z"
    }
   }
  },
  {
   "cell_type": "code",
   "execution_count": 50,
   "outputs": [
    {
     "name": "stdout",
     "output_type": "stream",
     "text": [
      "Полнота\n",
      "Дерево: 0.9871692060946271\n",
      "knn: 0.8275862068965517\n"
     ]
    }
   ],
   "source": [
    "print('Полнота')\n",
    "print(f'Дерево: {recall_score(y_valid, tree_grid.predict(x_valid))}')\n",
    "print(f'knn: {recall_score(y_valid, knn_grid.predict(x_valid))}')"
   ],
   "metadata": {
    "collapsed": false,
    "ExecuteTime": {
     "end_time": "2023-05-01T14:21:12.100136962Z",
     "start_time": "2023-05-01T14:21:11.881115965Z"
    }
   }
  },
  {
   "cell_type": "code",
   "execution_count": 51,
   "outputs": [
    {
     "name": "stdout",
     "output_type": "stream",
     "text": [
      "F-мера\n",
      "Дерево: 0.8548611111111111\n",
      "knn: 0.7756482525366404\n"
     ]
    }
   ],
   "source": [
    "print('F-мера')\n",
    "print(f'Дерево: {f1_score(y_valid, tree_grid.predict(x_valid))}')\n",
    "print(f'knn: {f1_score(y_valid, knn_grid.predict(x_valid))}')"
   ],
   "metadata": {
    "collapsed": false,
    "ExecuteTime": {
     "end_time": "2023-05-01T14:22:56.469486152Z",
     "start_time": "2023-05-01T14:22:56.320708670Z"
    }
   }
  },
  {
   "cell_type": "code",
   "execution_count": 52,
   "outputs": [
    {
     "name": "stdout",
     "output_type": "stream",
     "text": [
      "ROC-AUC\n",
      "Дерево: 0.8911381198668854\n",
      "knn: 0.8164434602270729\n"
     ]
    }
   ],
   "source": [
    "print('ROC-AUC')\n",
    "print(f'Дерево: {roc_auc_score(y_valid, tree_grid.predict(x_valid))}')\n",
    "print(f'knn: {roc_auc_score(y_valid, knn_grid.predict(x_valid))}')"
   ],
   "metadata": {
    "collapsed": false,
    "ExecuteTime": {
     "end_time": "2023-05-01T14:24:34.568124908Z",
     "start_time": "2023-05-01T14:24:34.341935324Z"
    }
   }
  },
  {
   "cell_type": "code",
   "execution_count": null,
   "outputs": [],
   "source": [],
   "metadata": {
    "collapsed": false
   }
  }
 ],
 "metadata": {
  "kernelspec": {
   "display_name": "Python 3 (ipykernel)",
   "language": "python",
   "name": "python3"
  },
  "language_info": {
   "codemirror_mode": {
    "name": "ipython",
    "version": 3
   },
   "file_extension": ".py",
   "mimetype": "text/x-python",
   "name": "python",
   "nbconvert_exporter": "python",
   "pygments_lexer": "ipython3",
   "version": "3.11.3"
  }
 },
 "nbformat": 4,
 "nbformat_minor": 1
}
