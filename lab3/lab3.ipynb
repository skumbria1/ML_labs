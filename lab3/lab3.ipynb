{
 "cells": [
  {
   "cell_type": "markdown",
   "metadata": {},
   "source": [
    "Датасет представляет собой набор имитационных данных о клиентах магазина.\n",
    "Источник: https://www.kaggle.com/datasets/vetrirah/customer\n",
    "\n",
    "Атрибуты:\n",
    "1. ID (int) - уникальный ID;\n",
    "2. Gender (str) - пол;\n",
    "3. Ever_Married (str) - человек когда либо был в браке;\n",
    "4. Age (int) - возраст;\n",
    "5. Graduated (str) - имеется ли высшее образование;\n",
    "6. Profession (str) - профессия;\n",
    "7. Work_Experience (float) - опыт работы;\n",
    "8. Spending_Score (str) - категория, присваиваемая магазином на основе расходов;\n",
    "9. Family_Size (float) - количество членов семьи, включая покупателя;\n",
    "10. Var_1 (str) - анонимная категория для клиента;\n",
    "11. Segmentation (str) - сегмент, в который попадает покупатель.\n",
    "\n",
    "Атрибуты Var_1 и Segmentation уберем, так как Var_1 не дает какой-либо\n",
    "информации, Segmentation - так как данный атрибут не указан в Test.csv.\n",
    "Целевым классом обозначим Spending_Score."
   ]
  },
  {
   "cell_type": "code",
   "execution_count": 1,
   "metadata": {
    "ExecuteTime": {
     "end_time": "2023-05-01T18:31:56.766555811Z",
     "start_time": "2023-05-01T18:31:56.739843059Z"
    }
   },
   "outputs": [
    {
     "data": {
      "text/plain": "(10695, 10)"
     },
     "execution_count": 1,
     "metadata": {},
     "output_type": "execute_result"
    }
   ],
   "source": [
    "import pandas as pd\n",
    "\n",
    "train_df = pd.read_csv('Train.csv')\n",
    "train_df.drop(['Segmentation'], axis=1, inplace=True)\n",
    "test_df = pd.read_csv('Test.csv')\n",
    "data = pd.concat([train_df, test_df], ignore_index=True)\n",
    "data.shape"
   ]
  },
  {
   "cell_type": "code",
   "execution_count": 2,
   "metadata": {
    "ExecuteTime": {
     "end_time": "2023-05-01T18:31:57.558178343Z",
     "start_time": "2023-05-01T18:31:57.554480838Z"
    }
   },
   "outputs": [
    {
     "data": {
      "text/plain": "       ID  Gender Ever_Married  Age Graduated     Profession  Work_Experience  \\\n0  462809    Male           No   22        No     Healthcare              1.0   \n1  462643  Female          Yes   38       Yes       Engineer              NaN   \n2  466315  Female          Yes   67       Yes       Engineer              1.0   \n3  461735    Male          Yes   67       Yes         Lawyer              0.0   \n4  462669  Female          Yes   40       Yes  Entertainment              NaN   \n\n  Spending_Score  Family_Size  Var_1  \n0            Low          4.0  Cat_4  \n1        Average          3.0  Cat_4  \n2            Low          1.0  Cat_6  \n3           High          2.0  Cat_6  \n4           High          6.0  Cat_6  ",
      "text/html": "<div>\n<style scoped>\n    .dataframe tbody tr th:only-of-type {\n        vertical-align: middle;\n    }\n\n    .dataframe tbody tr th {\n        vertical-align: top;\n    }\n\n    .dataframe thead th {\n        text-align: right;\n    }\n</style>\n<table border=\"1\" class=\"dataframe\">\n  <thead>\n    <tr style=\"text-align: right;\">\n      <th></th>\n      <th>ID</th>\n      <th>Gender</th>\n      <th>Ever_Married</th>\n      <th>Age</th>\n      <th>Graduated</th>\n      <th>Profession</th>\n      <th>Work_Experience</th>\n      <th>Spending_Score</th>\n      <th>Family_Size</th>\n      <th>Var_1</th>\n    </tr>\n  </thead>\n  <tbody>\n    <tr>\n      <th>0</th>\n      <td>462809</td>\n      <td>Male</td>\n      <td>No</td>\n      <td>22</td>\n      <td>No</td>\n      <td>Healthcare</td>\n      <td>1.0</td>\n      <td>Low</td>\n      <td>4.0</td>\n      <td>Cat_4</td>\n    </tr>\n    <tr>\n      <th>1</th>\n      <td>462643</td>\n      <td>Female</td>\n      <td>Yes</td>\n      <td>38</td>\n      <td>Yes</td>\n      <td>Engineer</td>\n      <td>NaN</td>\n      <td>Average</td>\n      <td>3.0</td>\n      <td>Cat_4</td>\n    </tr>\n    <tr>\n      <th>2</th>\n      <td>466315</td>\n      <td>Female</td>\n      <td>Yes</td>\n      <td>67</td>\n      <td>Yes</td>\n      <td>Engineer</td>\n      <td>1.0</td>\n      <td>Low</td>\n      <td>1.0</td>\n      <td>Cat_6</td>\n    </tr>\n    <tr>\n      <th>3</th>\n      <td>461735</td>\n      <td>Male</td>\n      <td>Yes</td>\n      <td>67</td>\n      <td>Yes</td>\n      <td>Lawyer</td>\n      <td>0.0</td>\n      <td>High</td>\n      <td>2.0</td>\n      <td>Cat_6</td>\n    </tr>\n    <tr>\n      <th>4</th>\n      <td>462669</td>\n      <td>Female</td>\n      <td>Yes</td>\n      <td>40</td>\n      <td>Yes</td>\n      <td>Entertainment</td>\n      <td>NaN</td>\n      <td>High</td>\n      <td>6.0</td>\n      <td>Cat_6</td>\n    </tr>\n  </tbody>\n</table>\n</div>"
     },
     "execution_count": 2,
     "metadata": {},
     "output_type": "execute_result"
    }
   ],
   "source": [
    "data.head()"
   ]
  },
  {
   "cell_type": "code",
   "execution_count": 3,
   "metadata": {
    "ExecuteTime": {
     "end_time": "2023-05-01T18:31:58.560050362Z",
     "start_time": "2023-05-01T18:31:58.525244762Z"
    }
   },
   "outputs": [
    {
     "data": {
      "text/plain": "   Gender Ever_Married  Age Graduated     Profession  Work_Experience  \\\n0    Male           No   22        No     Healthcare              1.0   \n1  Female          Yes   38       Yes       Engineer              NaN   \n2  Female          Yes   67       Yes       Engineer              1.0   \n3    Male          Yes   67       Yes         Lawyer              0.0   \n4  Female          Yes   40       Yes  Entertainment              NaN   \n\n  Spending_Score  Family_Size  \n0            Low          4.0  \n1        Average          3.0  \n2            Low          1.0  \n3           High          2.0  \n4           High          6.0  ",
      "text/html": "<div>\n<style scoped>\n    .dataframe tbody tr th:only-of-type {\n        vertical-align: middle;\n    }\n\n    .dataframe tbody tr th {\n        vertical-align: top;\n    }\n\n    .dataframe thead th {\n        text-align: right;\n    }\n</style>\n<table border=\"1\" class=\"dataframe\">\n  <thead>\n    <tr style=\"text-align: right;\">\n      <th></th>\n      <th>Gender</th>\n      <th>Ever_Married</th>\n      <th>Age</th>\n      <th>Graduated</th>\n      <th>Profession</th>\n      <th>Work_Experience</th>\n      <th>Spending_Score</th>\n      <th>Family_Size</th>\n    </tr>\n  </thead>\n  <tbody>\n    <tr>\n      <th>0</th>\n      <td>Male</td>\n      <td>No</td>\n      <td>22</td>\n      <td>No</td>\n      <td>Healthcare</td>\n      <td>1.0</td>\n      <td>Low</td>\n      <td>4.0</td>\n    </tr>\n    <tr>\n      <th>1</th>\n      <td>Female</td>\n      <td>Yes</td>\n      <td>38</td>\n      <td>Yes</td>\n      <td>Engineer</td>\n      <td>NaN</td>\n      <td>Average</td>\n      <td>3.0</td>\n    </tr>\n    <tr>\n      <th>2</th>\n      <td>Female</td>\n      <td>Yes</td>\n      <td>67</td>\n      <td>Yes</td>\n      <td>Engineer</td>\n      <td>1.0</td>\n      <td>Low</td>\n      <td>1.0</td>\n    </tr>\n    <tr>\n      <th>3</th>\n      <td>Male</td>\n      <td>Yes</td>\n      <td>67</td>\n      <td>Yes</td>\n      <td>Lawyer</td>\n      <td>0.0</td>\n      <td>High</td>\n      <td>2.0</td>\n    </tr>\n    <tr>\n      <th>4</th>\n      <td>Female</td>\n      <td>Yes</td>\n      <td>40</td>\n      <td>Yes</td>\n      <td>Entertainment</td>\n      <td>NaN</td>\n      <td>High</td>\n      <td>6.0</td>\n    </tr>\n  </tbody>\n</table>\n</div>"
     },
     "execution_count": 3,
     "metadata": {},
     "output_type": "execute_result"
    }
   ],
   "source": [
    "data.drop(['ID', 'Var_1'], axis=1, inplace=True)\n",
    "data.head()"
   ]
  },
  {
   "cell_type": "code",
   "execution_count": 4,
   "metadata": {
    "ExecuteTime": {
     "end_time": "2023-05-01T18:31:59.400305704Z",
     "start_time": "2023-05-01T18:31:59.391144341Z"
    }
   },
   "outputs": [
    {
     "data": {
      "text/plain": "Gender              object\nEver_Married        object\nAge                  int64\nGraduated           object\nProfession          object\nWork_Experience    float64\nSpending_Score      object\nFamily_Size        float64\ndtype: object"
     },
     "execution_count": 4,
     "metadata": {},
     "output_type": "execute_result"
    }
   ],
   "source": [
    "data.dtypes"
   ]
  },
  {
   "cell_type": "code",
   "execution_count": 5,
   "metadata": {
    "ExecuteTime": {
     "end_time": "2023-05-01T18:32:00.343776745Z",
     "start_time": "2023-05-01T18:32:00.327261348Z"
    }
   },
   "outputs": [
    {
     "data": {
      "text/plain": "Gender             object\nEver_Married       object\nAge                 int64\nGraduated          object\nProfession         object\nWork_Experience     Int64\nSpending_Score     object\nFamily_Size         Int64\ndtype: object"
     },
     "execution_count": 5,
     "metadata": {},
     "output_type": "execute_result"
    }
   ],
   "source": [
    "data['Work_Experience'] = (pd.to_numeric(data['Work_Experience'], errors='coerce')\n",
    "    .astype('Int64'))\n",
    "data['Family_Size'] = (pd.to_numeric(data['Family_Size'], errors='coerce')\n",
    "    .astype('Int64'))\n",
    "data.dtypes"
   ]
  },
  {
   "cell_type": "code",
   "execution_count": 6,
   "metadata": {
    "ExecuteTime": {
     "end_time": "2023-05-01T18:32:01.011922630Z",
     "start_time": "2023-05-01T18:32:01.002948669Z"
    }
   },
   "outputs": [
    {
     "data": {
      "text/plain": "Gender                0\nEver_Married        190\nAge                   0\nGraduated           102\nProfession          162\nWork_Experience    1098\nSpending_Score        0\nFamily_Size         448\ndtype: int64"
     },
     "execution_count": 6,
     "metadata": {},
     "output_type": "execute_result"
    }
   ],
   "source": [
    "data.isna().sum()"
   ]
  },
  {
   "cell_type": "markdown",
   "metadata": {},
   "source": [
    "Пустые значения во всех полях, кроме Work_Experience и Family_Size, заполним\n",
    "с помощью ffill(), так как количество пропущенных значений составляет малую\n",
    "часть данных. Пустые значения в Work_Experience и Family_Size заменим\n",
    "медианой, чтобы не поменять вид распределения данных."
   ]
  },
  {
   "cell_type": "code",
   "execution_count": 7,
   "metadata": {
    "ExecuteTime": {
     "end_time": "2023-05-01T18:32:02.039145327Z",
     "start_time": "2023-05-01T18:32:01.999791080Z"
    }
   },
   "outputs": [
    {
     "data": {
      "text/plain": "Gender             0\nEver_Married       0\nAge                0\nGraduated          0\nProfession         0\nWork_Experience    0\nSpending_Score     0\nFamily_Size        0\ndtype: int64"
     },
     "execution_count": 7,
     "metadata": {},
     "output_type": "execute_result"
    }
   ],
   "source": [
    "data['Ever_Married'].ffill(inplace=True)\n",
    "data['Profession'].ffill(inplace=True)\n",
    "data['Graduated'].ffill(inplace=True)\n",
    "data['Work_Experience'].fillna(data['Work_Experience'].median(), inplace=True)\n",
    "data['Family_Size'].fillna(data['Family_Size'].median(), inplace=True)\n",
    "data.isna().sum()"
   ]
  },
  {
   "cell_type": "code",
   "execution_count": 8,
   "metadata": {
    "ExecuteTime": {
     "end_time": "2023-05-01T18:32:02.825074377Z",
     "start_time": "2023-05-01T18:32:02.816310340Z"
    }
   },
   "outputs": [
    {
     "name": "stdout",
     "output_type": "stream",
     "text": [
      "Rows before cleanup: 10695\n",
      "Rows after cleanup: 10695\n"
     ]
    }
   ],
   "source": [
    "print(f'Rows before cleanup: {len(data)}')\n",
    "data = data[\n",
    "    (data['Age'] > data['Work_Experience'])\n",
    "    & (data['Family_Size'] > 0)\n",
    "]\n",
    "print(f'Rows after cleanup: {len(data)}')"
   ]
  },
  {
   "cell_type": "markdown",
   "source": [
    "Применим One-Hot-Encoding для категориальных признаков."
   ],
   "metadata": {
    "collapsed": false
   }
  },
  {
   "cell_type": "code",
   "execution_count": 9,
   "outputs": [
    {
     "data": {
      "text/plain": "   Gender Ever_Married  Age Graduated     Profession  Work_Experience  \\\n0    Male           No   22        No     Healthcare                1   \n1  Female          Yes   38       Yes       Engineer                1   \n2  Female          Yes   67       Yes       Engineer                1   \n3    Male          Yes   67       Yes         Lawyer                0   \n4  Female          Yes   40       Yes  Entertainment                1   \n\n  Spending_Score  Family_Size  Gender_Female  Gender_Male  ...  Graduated_Yes  \\\n0            Low            4              0            1  ...              0   \n1        Average            3              1            0  ...              1   \n2            Low            1              1            0  ...              1   \n3           High            2              0            1  ...              1   \n4           High            6              1            0  ...              1   \n\n   Profession_Artist  Profession_Doctor  Profession_Engineer  \\\n0                  0                  0                    0   \n1                  0                  0                    1   \n2                  0                  0                    1   \n3                  0                  0                    0   \n4                  0                  0                    0   \n\n   Profession_Entertainment  Profession_Executive  Profession_Healthcare  \\\n0                         0                     0                      1   \n1                         0                     0                      0   \n2                         0                     0                      0   \n3                         0                     0                      0   \n4                         1                     0                      0   \n\n   Profession_Homemaker  Profession_Lawyer  Profession_Marketing  \n0                     0                  0                     0  \n1                     0                  0                     0  \n2                     0                  0                     0  \n3                     0                  1                     0  \n4                     0                  0                     0  \n\n[5 rows x 23 columns]",
      "text/html": "<div>\n<style scoped>\n    .dataframe tbody tr th:only-of-type {\n        vertical-align: middle;\n    }\n\n    .dataframe tbody tr th {\n        vertical-align: top;\n    }\n\n    .dataframe thead th {\n        text-align: right;\n    }\n</style>\n<table border=\"1\" class=\"dataframe\">\n  <thead>\n    <tr style=\"text-align: right;\">\n      <th></th>\n      <th>Gender</th>\n      <th>Ever_Married</th>\n      <th>Age</th>\n      <th>Graduated</th>\n      <th>Profession</th>\n      <th>Work_Experience</th>\n      <th>Spending_Score</th>\n      <th>Family_Size</th>\n      <th>Gender_Female</th>\n      <th>Gender_Male</th>\n      <th>...</th>\n      <th>Graduated_Yes</th>\n      <th>Profession_Artist</th>\n      <th>Profession_Doctor</th>\n      <th>Profession_Engineer</th>\n      <th>Profession_Entertainment</th>\n      <th>Profession_Executive</th>\n      <th>Profession_Healthcare</th>\n      <th>Profession_Homemaker</th>\n      <th>Profession_Lawyer</th>\n      <th>Profession_Marketing</th>\n    </tr>\n  </thead>\n  <tbody>\n    <tr>\n      <th>0</th>\n      <td>Male</td>\n      <td>No</td>\n      <td>22</td>\n      <td>No</td>\n      <td>Healthcare</td>\n      <td>1</td>\n      <td>Low</td>\n      <td>4</td>\n      <td>0</td>\n      <td>1</td>\n      <td>...</td>\n      <td>0</td>\n      <td>0</td>\n      <td>0</td>\n      <td>0</td>\n      <td>0</td>\n      <td>0</td>\n      <td>1</td>\n      <td>0</td>\n      <td>0</td>\n      <td>0</td>\n    </tr>\n    <tr>\n      <th>1</th>\n      <td>Female</td>\n      <td>Yes</td>\n      <td>38</td>\n      <td>Yes</td>\n      <td>Engineer</td>\n      <td>1</td>\n      <td>Average</td>\n      <td>3</td>\n      <td>1</td>\n      <td>0</td>\n      <td>...</td>\n      <td>1</td>\n      <td>0</td>\n      <td>0</td>\n      <td>1</td>\n      <td>0</td>\n      <td>0</td>\n      <td>0</td>\n      <td>0</td>\n      <td>0</td>\n      <td>0</td>\n    </tr>\n    <tr>\n      <th>2</th>\n      <td>Female</td>\n      <td>Yes</td>\n      <td>67</td>\n      <td>Yes</td>\n      <td>Engineer</td>\n      <td>1</td>\n      <td>Low</td>\n      <td>1</td>\n      <td>1</td>\n      <td>0</td>\n      <td>...</td>\n      <td>1</td>\n      <td>0</td>\n      <td>0</td>\n      <td>1</td>\n      <td>0</td>\n      <td>0</td>\n      <td>0</td>\n      <td>0</td>\n      <td>0</td>\n      <td>0</td>\n    </tr>\n    <tr>\n      <th>3</th>\n      <td>Male</td>\n      <td>Yes</td>\n      <td>67</td>\n      <td>Yes</td>\n      <td>Lawyer</td>\n      <td>0</td>\n      <td>High</td>\n      <td>2</td>\n      <td>0</td>\n      <td>1</td>\n      <td>...</td>\n      <td>1</td>\n      <td>0</td>\n      <td>0</td>\n      <td>0</td>\n      <td>0</td>\n      <td>0</td>\n      <td>0</td>\n      <td>0</td>\n      <td>1</td>\n      <td>0</td>\n    </tr>\n    <tr>\n      <th>4</th>\n      <td>Female</td>\n      <td>Yes</td>\n      <td>40</td>\n      <td>Yes</td>\n      <td>Entertainment</td>\n      <td>1</td>\n      <td>High</td>\n      <td>6</td>\n      <td>1</td>\n      <td>0</td>\n      <td>...</td>\n      <td>1</td>\n      <td>0</td>\n      <td>0</td>\n      <td>0</td>\n      <td>1</td>\n      <td>0</td>\n      <td>0</td>\n      <td>0</td>\n      <td>0</td>\n      <td>0</td>\n    </tr>\n  </tbody>\n</table>\n<p>5 rows × 23 columns</p>\n</div>"
     },
     "execution_count": 9,
     "metadata": {},
     "output_type": "execute_result"
    }
   ],
   "source": [
    "data = pd.concat(\n",
    "    [\n",
    "        data,\n",
    "        pd.get_dummies(data['Gender'], prefix='Gender'),\n",
    "        pd.get_dummies(data['Ever_Married'], prefix='Ever_Married'),\n",
    "        pd.get_dummies(data['Graduated'], prefix='Graduated'),\n",
    "        pd.get_dummies(data['Profession'], prefix='Profession'),\n",
    "    ],\n",
    "    axis=1\n",
    ")\n",
    "data.head()"
   ],
   "metadata": {
    "collapsed": false,
    "ExecuteTime": {
     "end_time": "2023-05-01T18:32:04.310343164Z",
     "start_time": "2023-05-01T18:32:04.244448039Z"
    }
   }
  },
  {
   "cell_type": "code",
   "execution_count": 10,
   "outputs": [
    {
     "data": {
      "text/plain": "(10695, 19)"
     },
     "execution_count": 10,
     "metadata": {},
     "output_type": "execute_result"
    }
   ],
   "source": [
    "data.drop(\n",
    "    [\n",
    "        'Gender',\n",
    "        'Ever_Married',\n",
    "        'Graduated',\n",
    "        'Profession'\n",
    "    ],\n",
    "    axis=1,\n",
    "    inplace=True\n",
    ")\n",
    "data.shape"
   ],
   "metadata": {
    "collapsed": false,
    "ExecuteTime": {
     "end_time": "2023-05-01T18:32:05.171267688Z",
     "start_time": "2023-05-01T18:32:05.166754398Z"
    }
   }
  },
  {
   "cell_type": "markdown",
   "source": [
    "Задачей будет определить Spending_Score покупателя, нас будут интересовать\n",
    "покупатели со средним и высоким показателем."
   ],
   "metadata": {
    "collapsed": false
   }
  },
  {
   "cell_type": "code",
   "execution_count": 11,
   "outputs": [
    {
     "data": {
      "text/plain": "   Age  Work_Experience  Spending_Score  Family_Size  Gender_Female  \\\n0   22                1               0            4              0   \n1   38                1               1            3              1   \n2   67                1               0            1              1   \n3   67                0               1            2              0   \n4   40                1               1            6              1   \n\n   Gender_Male  Ever_Married_No  Ever_Married_Yes  Graduated_No  \\\n0            1                1                 0             1   \n1            0                0                 1             0   \n2            0                0                 1             0   \n3            1                0                 1             0   \n4            0                0                 1             0   \n\n   Graduated_Yes  Profession_Artist  Profession_Doctor  Profession_Engineer  \\\n0              0                  0                  0                    0   \n1              1                  0                  0                    1   \n2              1                  0                  0                    1   \n3              1                  0                  0                    0   \n4              1                  0                  0                    0   \n\n   Profession_Entertainment  Profession_Executive  Profession_Healthcare  \\\n0                         0                     0                      1   \n1                         0                     0                      0   \n2                         0                     0                      0   \n3                         0                     0                      0   \n4                         1                     0                      0   \n\n   Profession_Homemaker  Profession_Lawyer  Profession_Marketing  \n0                     0                  0                     0  \n1                     0                  0                     0  \n2                     0                  0                     0  \n3                     0                  1                     0  \n4                     0                  0                     0  ",
      "text/html": "<div>\n<style scoped>\n    .dataframe tbody tr th:only-of-type {\n        vertical-align: middle;\n    }\n\n    .dataframe tbody tr th {\n        vertical-align: top;\n    }\n\n    .dataframe thead th {\n        text-align: right;\n    }\n</style>\n<table border=\"1\" class=\"dataframe\">\n  <thead>\n    <tr style=\"text-align: right;\">\n      <th></th>\n      <th>Age</th>\n      <th>Work_Experience</th>\n      <th>Spending_Score</th>\n      <th>Family_Size</th>\n      <th>Gender_Female</th>\n      <th>Gender_Male</th>\n      <th>Ever_Married_No</th>\n      <th>Ever_Married_Yes</th>\n      <th>Graduated_No</th>\n      <th>Graduated_Yes</th>\n      <th>Profession_Artist</th>\n      <th>Profession_Doctor</th>\n      <th>Profession_Engineer</th>\n      <th>Profession_Entertainment</th>\n      <th>Profession_Executive</th>\n      <th>Profession_Healthcare</th>\n      <th>Profession_Homemaker</th>\n      <th>Profession_Lawyer</th>\n      <th>Profession_Marketing</th>\n    </tr>\n  </thead>\n  <tbody>\n    <tr>\n      <th>0</th>\n      <td>22</td>\n      <td>1</td>\n      <td>0</td>\n      <td>4</td>\n      <td>0</td>\n      <td>1</td>\n      <td>1</td>\n      <td>0</td>\n      <td>1</td>\n      <td>0</td>\n      <td>0</td>\n      <td>0</td>\n      <td>0</td>\n      <td>0</td>\n      <td>0</td>\n      <td>1</td>\n      <td>0</td>\n      <td>0</td>\n      <td>0</td>\n    </tr>\n    <tr>\n      <th>1</th>\n      <td>38</td>\n      <td>1</td>\n      <td>1</td>\n      <td>3</td>\n      <td>1</td>\n      <td>0</td>\n      <td>0</td>\n      <td>1</td>\n      <td>0</td>\n      <td>1</td>\n      <td>0</td>\n      <td>0</td>\n      <td>1</td>\n      <td>0</td>\n      <td>0</td>\n      <td>0</td>\n      <td>0</td>\n      <td>0</td>\n      <td>0</td>\n    </tr>\n    <tr>\n      <th>2</th>\n      <td>67</td>\n      <td>1</td>\n      <td>0</td>\n      <td>1</td>\n      <td>1</td>\n      <td>0</td>\n      <td>0</td>\n      <td>1</td>\n      <td>0</td>\n      <td>1</td>\n      <td>0</td>\n      <td>0</td>\n      <td>1</td>\n      <td>0</td>\n      <td>0</td>\n      <td>0</td>\n      <td>0</td>\n      <td>0</td>\n      <td>0</td>\n    </tr>\n    <tr>\n      <th>3</th>\n      <td>67</td>\n      <td>0</td>\n      <td>1</td>\n      <td>2</td>\n      <td>0</td>\n      <td>1</td>\n      <td>0</td>\n      <td>1</td>\n      <td>0</td>\n      <td>1</td>\n      <td>0</td>\n      <td>0</td>\n      <td>0</td>\n      <td>0</td>\n      <td>0</td>\n      <td>0</td>\n      <td>0</td>\n      <td>1</td>\n      <td>0</td>\n    </tr>\n    <tr>\n      <th>4</th>\n      <td>40</td>\n      <td>1</td>\n      <td>1</td>\n      <td>6</td>\n      <td>1</td>\n      <td>0</td>\n      <td>0</td>\n      <td>1</td>\n      <td>0</td>\n      <td>1</td>\n      <td>0</td>\n      <td>0</td>\n      <td>0</td>\n      <td>1</td>\n      <td>0</td>\n      <td>0</td>\n      <td>0</td>\n      <td>0</td>\n      <td>0</td>\n    </tr>\n  </tbody>\n</table>\n</div>"
     },
     "execution_count": 11,
     "metadata": {},
     "output_type": "execute_result"
    }
   ],
   "source": [
    "spending_score_replace = {'Low': 0, 'Average': 1, 'High': 1}\n",
    "data['Spending_Score'].replace(spending_score_replace, inplace=True)\n",
    "data.head()"
   ],
   "metadata": {
    "collapsed": false,
    "ExecuteTime": {
     "end_time": "2023-05-01T18:32:07.119443342Z",
     "start_time": "2023-05-01T18:32:07.084480567Z"
    }
   }
  },
  {
   "cell_type": "code",
   "execution_count": 12,
   "outputs": [
    {
     "name": "stdout",
     "output_type": "stream",
     "text": [
      "<class 'pandas.core.frame.DataFrame'>\n",
      "Int64Index: 10695 entries, 0 to 10694\n",
      "Data columns (total 19 columns):\n",
      " #   Column                    Non-Null Count  Dtype\n",
      "---  ------                    --------------  -----\n",
      " 0   Age                       10695 non-null  int64\n",
      " 1   Work_Experience           10695 non-null  Int64\n",
      " 2   Spending_Score            10695 non-null  int64\n",
      " 3   Family_Size               10695 non-null  Int64\n",
      " 4   Gender_Female             10695 non-null  uint8\n",
      " 5   Gender_Male               10695 non-null  uint8\n",
      " 6   Ever_Married_No           10695 non-null  uint8\n",
      " 7   Ever_Married_Yes          10695 non-null  uint8\n",
      " 8   Graduated_No              10695 non-null  uint8\n",
      " 9   Graduated_Yes             10695 non-null  uint8\n",
      " 10  Profession_Artist         10695 non-null  uint8\n",
      " 11  Profession_Doctor         10695 non-null  uint8\n",
      " 12  Profession_Engineer       10695 non-null  uint8\n",
      " 13  Profession_Entertainment  10695 non-null  uint8\n",
      " 14  Profession_Executive      10695 non-null  uint8\n",
      " 15  Profession_Healthcare     10695 non-null  uint8\n",
      " 16  Profession_Homemaker      10695 non-null  uint8\n",
      " 17  Profession_Lawyer         10695 non-null  uint8\n",
      " 18  Profession_Marketing      10695 non-null  uint8\n",
      "dtypes: Int64(2), int64(2), uint8(15)\n",
      "memory usage: 595.3 KB\n"
     ]
    }
   ],
   "source": [
    "data.info()"
   ],
   "metadata": {
    "collapsed": false,
    "ExecuteTime": {
     "end_time": "2023-05-01T18:32:07.539262774Z",
     "start_time": "2023-05-01T18:32:07.516768351Z"
    }
   }
  },
  {
   "cell_type": "code",
   "execution_count": 13,
   "outputs": [
    {
     "data": {
      "text/plain": "((10695, 18), (10695,))"
     },
     "execution_count": 13,
     "metadata": {},
     "output_type": "execute_result"
    }
   ],
   "source": [
    "y = data['Spending_Score']\n",
    "x = data.drop('Spending_Score', axis=1)\n",
    "x.shape, y.shape"
   ],
   "metadata": {
    "collapsed": false,
    "ExecuteTime": {
     "end_time": "2023-05-01T18:32:08.072558094Z",
     "start_time": "2023-05-01T18:32:08.068728556Z"
    }
   }
  },
  {
   "cell_type": "code",
   "execution_count": 14,
   "outputs": [],
   "source": [
    "from sklearn.model_selection import train_test_split, cross_val_score\n",
    "from sklearn.tree import DecisionTreeClassifier"
   ],
   "metadata": {
    "collapsed": false,
    "ExecuteTime": {
     "end_time": "2023-05-01T18:32:09.004859674Z",
     "start_time": "2023-05-01T18:32:08.791145658Z"
    }
   }
  },
  {
   "cell_type": "code",
   "execution_count": 15,
   "outputs": [
    {
     "data": {
      "text/plain": "array([0.81508678, 0.80227121, 0.82698731, 0.82765531, 0.7989312 ])"
     },
     "execution_count": 15,
     "metadata": {},
     "output_type": "execute_result"
    }
   ],
   "source": [
    "x_train, x_valid, y_train, y_valid = train_test_split(x, y, test_size=0.3,\n",
    "                                                      random_state=17)\n",
    "first_tree = DecisionTreeClassifier(random_state=17)\n",
    "cross_val_score(first_tree, x_train, y_train, cv=5)"
   ],
   "metadata": {
    "collapsed": false,
    "ExecuteTime": {
     "end_time": "2023-05-01T18:32:09.432989192Z",
     "start_time": "2023-05-01T18:32:09.339249415Z"
    }
   }
  },
  {
   "cell_type": "code",
   "execution_count": 16,
   "outputs": [
    {
     "data": {
      "text/plain": "0.8141863611513191"
     },
     "execution_count": 16,
     "metadata": {},
     "output_type": "execute_result"
    }
   ],
   "source": [
    "import numpy as np\n",
    "\n",
    "np.mean(cross_val_score(first_tree, x_train, y_train, cv=5))"
   ],
   "metadata": {
    "collapsed": false,
    "ExecuteTime": {
     "end_time": "2023-05-01T18:32:12.559486310Z",
     "start_time": "2023-05-01T18:32:12.457029458Z"
    }
   }
  },
  {
   "cell_type": "code",
   "execution_count": 17,
   "outputs": [],
   "source": [
    "from sklearn.neighbors import KNeighborsClassifier"
   ],
   "metadata": {
    "collapsed": false,
    "ExecuteTime": {
     "end_time": "2023-05-01T18:32:15.885606320Z",
     "start_time": "2023-05-01T18:32:15.879859364Z"
    }
   }
  },
  {
   "cell_type": "code",
   "execution_count": 18,
   "outputs": [
    {
     "data": {
      "text/plain": "0.8132508898526917"
     },
     "execution_count": 18,
     "metadata": {},
     "output_type": "execute_result"
    }
   ],
   "source": [
    "first_knn = KNeighborsClassifier()\n",
    "np.mean(cross_val_score(first_knn, x_train, y_train, cv=5))"
   ],
   "metadata": {
    "collapsed": false,
    "ExecuteTime": {
     "end_time": "2023-05-01T18:32:17.688887591Z",
     "start_time": "2023-05-01T18:32:17.412634607Z"
    }
   }
  },
  {
   "cell_type": "markdown",
   "source": [
    "Настроим max_depth и max_features для дерева"
   ],
   "metadata": {
    "collapsed": false
   }
  },
  {
   "cell_type": "code",
   "execution_count": 19,
   "outputs": [],
   "source": [
    "from sklearn.model_selection import GridSearchCV"
   ],
   "metadata": {
    "collapsed": false,
    "ExecuteTime": {
     "end_time": "2023-05-01T18:32:23.875593985Z",
     "start_time": "2023-05-01T18:32:23.819990191Z"
    }
   }
  },
  {
   "cell_type": "code",
   "execution_count": 20,
   "outputs": [],
   "source": [
    "tree_params = {'max_depth': np.arange(1, 11), 'max_features': [0.5, 0.7, 1.0]}"
   ],
   "metadata": {
    "collapsed": false,
    "ExecuteTime": {
     "end_time": "2023-05-01T18:32:25.502520056Z",
     "start_time": "2023-05-01T18:32:25.498298589Z"
    }
   }
  },
  {
   "cell_type": "code",
   "execution_count": 21,
   "outputs": [],
   "source": [
    "tree_grid = GridSearchCV(first_tree, tree_params, cv=5, n_jobs=-1)"
   ],
   "metadata": {
    "collapsed": false,
    "ExecuteTime": {
     "end_time": "2023-05-01T18:32:27.349471780Z",
     "start_time": "2023-05-01T18:32:27.343332242Z"
    }
   }
  },
  {
   "cell_type": "code",
   "execution_count": 22,
   "outputs": [
    {
     "name": "stdout",
     "output_type": "stream",
     "text": [
      "CPU times: user 134 ms, sys: 55.6 ms, total: 190 ms\n",
      "Wall time: 1.35 s\n"
     ]
    }
   ],
   "source": [
    "%%time\n",
    "tree_grid.fit(x_train, y_train);"
   ],
   "metadata": {
    "collapsed": false,
    "ExecuteTime": {
     "end_time": "2023-05-01T18:32:30.652902135Z",
     "start_time": "2023-05-01T18:32:29.296799490Z"
    }
   }
  },
  {
   "cell_type": "code",
   "execution_count": 23,
   "outputs": [
    {
     "data": {
      "text/plain": "({'max_depth': 2, 'max_features': 0.7}, 0.8674846800855829)"
     },
     "execution_count": 23,
     "metadata": {},
     "output_type": "execute_result"
    }
   ],
   "source": [
    "tree_grid.best_params_, tree_grid.best_score_"
   ],
   "metadata": {
    "collapsed": false,
    "ExecuteTime": {
     "end_time": "2023-05-01T18:32:33.046120881Z",
     "start_time": "2023-05-01T18:32:33.041796831Z"
    }
   }
  },
  {
   "cell_type": "markdown",
   "source": [
    "Лучшим сочетанием параметров оказалось глубина 2 и 70% атрибутов со средней\n",
    "долей правильных ответов 86.7, что на 5 больше, чем для дерева с настройками по\n",
    "умолчанию. Теперь будем искать лучшие параметры для алгоритма knn."
   ],
   "metadata": {
    "collapsed": false
   }
  },
  {
   "cell_type": "code",
   "execution_count": 24,
   "outputs": [],
   "source": [
    "from sklearn.pipeline import Pipeline\n",
    "from sklearn.preprocessing import StandardScaler"
   ],
   "metadata": {
    "collapsed": false,
    "ExecuteTime": {
     "end_time": "2023-05-01T18:32:41.969594365Z",
     "start_time": "2023-05-01T18:32:41.949077267Z"
    }
   }
  },
  {
   "cell_type": "code",
   "execution_count": 25,
   "outputs": [],
   "source": [
    "knn_pipe = Pipeline(\n",
    "    [(\"scaler\", StandardScaler()), (\"knn\", KNeighborsClassifier(n_jobs=-1))]\n",
    ")"
   ],
   "metadata": {
    "collapsed": false,
    "ExecuteTime": {
     "end_time": "2023-05-01T18:33:02.049745735Z",
     "start_time": "2023-05-01T18:33:02.045895744Z"
    }
   }
  },
  {
   "cell_type": "code",
   "execution_count": 32,
   "outputs": [],
   "source": [
    "knn_params = {'knn__n_neighbors': [1, 2, 3, 4] + list(range(50, 100, 10))}"
   ],
   "metadata": {
    "collapsed": false,
    "ExecuteTime": {
     "end_time": "2023-05-01T18:34:37.533325845Z",
     "start_time": "2023-05-01T18:34:37.485768171Z"
    }
   }
  },
  {
   "cell_type": "code",
   "execution_count": 33,
   "outputs": [],
   "source": [
    "knn_grid = GridSearchCV(knn_pipe, knn_params, cv=5, n_jobs=-1)"
   ],
   "metadata": {
    "collapsed": false,
    "ExecuteTime": {
     "end_time": "2023-05-01T18:34:38.630027128Z",
     "start_time": "2023-05-01T18:34:38.625674164Z"
    }
   }
  },
  {
   "cell_type": "code",
   "execution_count": 34,
   "outputs": [
    {
     "name": "stdout",
     "output_type": "stream",
     "text": [
      "CPU times: user 79.9 ms, sys: 41.9 ms, total: 122 ms\n",
      "Wall time: 1.75 s\n"
     ]
    }
   ],
   "source": [
    "%%time\n",
    "knn_grid.fit(x_train, y_train);"
   ],
   "metadata": {
    "collapsed": false,
    "ExecuteTime": {
     "end_time": "2023-05-01T18:34:41.562729268Z",
     "start_time": "2023-05-01T18:34:39.808883204Z"
    }
   }
  },
  {
   "cell_type": "code",
   "execution_count": 35,
   "outputs": [
    {
     "data": {
      "text/plain": "({'knn__n_neighbors': 3}, 0.838230711534328)"
     },
     "execution_count": 35,
     "metadata": {},
     "output_type": "execute_result"
    }
   ],
   "source": [
    "knn_grid.best_params_, knn_grid.best_score_"
   ],
   "metadata": {
    "collapsed": false,
    "ExecuteTime": {
     "end_time": "2023-05-01T18:34:44.343617769Z",
     "start_time": "2023-05-01T18:34:44.339538564Z"
    }
   }
  },
  {
   "cell_type": "markdown",
   "source": [
    "Для алгоритма knn оптимальным количеством соседей оказалось 3 со средней долей\n",
    "правильных ответов 83.8%. Сравним два алгоритма на отложенной выборке с\n",
    "помощью различных метрик."
   ],
   "metadata": {
    "collapsed": false
   }
  },
  {
   "cell_type": "code",
   "execution_count": 36,
   "outputs": [],
   "source": [
    "from sklearn.metrics import (accuracy_score, precision_score, recall_score,\n",
    "    f1_score, roc_auc_score)"
   ],
   "metadata": {
    "collapsed": false,
    "ExecuteTime": {
     "end_time": "2023-05-01T18:35:07.056961237Z",
     "start_time": "2023-05-01T18:35:07.051923433Z"
    }
   }
  },
  {
   "cell_type": "code",
   "execution_count": 38,
   "outputs": [
    {
     "name": "stdout",
     "output_type": "stream",
     "text": [
      "Доля правильных ответов (accuracy)\n",
      "Дерево: 0.869741352446245\n",
      "knn: 0.854783421626675\n",
      "Доля клиентов со Spending_Score Average или High: 0.6071996259934549\n"
     ]
    }
   ],
   "source": [
    "print('Доля правильных ответов (accuracy)')\n",
    "print(f'Дерево: {accuracy_score(y_valid, tree_grid.predict(x_valid))}')\n",
    "print(f'knn: {accuracy_score(y_valid, knn_grid.predict(x_valid))}')\n",
    "print(f'Доля клиентов со Spending_Score Average или High: {1 - np.mean(y)}')"
   ],
   "metadata": {
    "collapsed": false,
    "ExecuteTime": {
     "end_time": "2023-05-01T18:46:02.062421830Z",
     "start_time": "2023-05-01T18:46:01.894219259Z"
    }
   }
  },
  {
   "cell_type": "code",
   "execution_count": 39,
   "outputs": [
    {
     "name": "stdout",
     "output_type": "stream",
     "text": [
      "Точность (precision)\n",
      "Дерево: 0.7538273116962645\n",
      "knn: 0.7920718025430067\n"
     ]
    }
   ],
   "source": [
    "print('Точность (precision)')\n",
    "print(f'Дерево: {precision_score(y_valid, tree_grid.predict(x_valid))}')\n",
    "print(f'knn: {precision_score(y_valid, knn_grid.predict(x_valid))}')"
   ],
   "metadata": {
    "collapsed": false,
    "ExecuteTime": {
     "end_time": "2023-05-01T18:46:21.815080207Z",
     "start_time": "2023-05-01T18:46:21.596775503Z"
    }
   }
  },
  {
   "cell_type": "code",
   "execution_count": 40,
   "outputs": [
    {
     "name": "stdout",
     "output_type": "stream",
     "text": [
      "Полнота (recall)\n",
      "Дерево: 0.9871692060946271\n",
      "knn: 0.8492381716118684\n"
     ]
    }
   ],
   "source": [
    "print('Полнота (recall)')\n",
    "print(f'Дерево: {recall_score(y_valid, tree_grid.predict(x_valid))}')\n",
    "print(f'knn: {recall_score(y_valid, knn_grid.predict(x_valid))}')"
   ],
   "metadata": {
    "collapsed": false,
    "ExecuteTime": {
     "end_time": "2023-05-01T18:46:27.818457951Z",
     "start_time": "2023-05-01T18:46:27.666586816Z"
    }
   }
  },
  {
   "cell_type": "code",
   "execution_count": 41,
   "outputs": [
    {
     "name": "stdout",
     "output_type": "stream",
     "text": [
      "F-мера (f-measure)\n",
      "Дерево: 0.8548611111111111\n",
      "knn: 0.8196594427244581\n"
     ]
    }
   ],
   "source": [
    "print('F-мера (f-measure)')\n",
    "print(f'Дерево: {f1_score(y_valid, tree_grid.predict(x_valid))}')\n",
    "print(f'knn: {f1_score(y_valid, knn_grid.predict(x_valid))}')"
   ],
   "metadata": {
    "collapsed": false,
    "ExecuteTime": {
     "end_time": "2023-05-01T18:46:30.829083362Z",
     "start_time": "2023-05-01T18:46:30.621342253Z"
    }
   }
  },
  {
   "cell_type": "code",
   "execution_count": 42,
   "outputs": [
    {
     "name": "stdout",
     "output_type": "stream",
     "text": [
      "ROC-AUC\n",
      "Дерево: 0.8911381198668854\n",
      "knn: 0.8537730103727028\n"
     ]
    }
   ],
   "source": [
    "print('ROC-AUC')\n",
    "print(f'Дерево: {roc_auc_score(y_valid, tree_grid.predict(x_valid))}')\n",
    "print(f'knn: {roc_auc_score(y_valid, knn_grid.predict(x_valid))}')"
   ],
   "metadata": {
    "collapsed": false,
    "ExecuteTime": {
     "end_time": "2023-05-01T18:46:33.925245589Z",
     "start_time": "2023-05-01T18:46:33.743300327Z"
    }
   }
  },
  {
   "cell_type": "code",
   "execution_count": 43,
   "outputs": [],
   "source": [
    "from sklearn.metrics import confusion_matrix, ConfusionMatrixDisplay"
   ],
   "metadata": {
    "collapsed": false,
    "ExecuteTime": {
     "end_time": "2023-05-01T18:46:40.732919667Z",
     "start_time": "2023-05-01T18:46:40.727653045Z"
    }
   }
  },
  {
   "cell_type": "code",
   "execution_count": 44,
   "outputs": [],
   "source": [
    "import matplotlib.pyplot as plt"
   ],
   "metadata": {
    "collapsed": false,
    "ExecuteTime": {
     "end_time": "2023-05-01T18:46:41.021716813Z",
     "start_time": "2023-05-01T18:46:41.018125152Z"
    }
   }
  },
  {
   "cell_type": "code",
   "execution_count": 45,
   "outputs": [
    {
     "data": {
      "text/plain": "<Figure size 640x480 with 2 Axes>",
      "image/png": "[encoded data removed]"
     },
     "metadata": {},
     "output_type": "display_data"
    }
   ],
   "source": [
    "cm = confusion_matrix(y_valid, tree_grid.predict(x_valid))\n",
    "disp = ConfusionMatrixDisplay(confusion_matrix=cm)\n",
    "disp.plot(cmap='binary')\n",
    "plt.show()"
   ],
   "metadata": {
    "collapsed": false,
    "ExecuteTime": {
     "end_time": "2023-05-01T18:46:41.979794584Z",
     "start_time": "2023-05-01T18:46:41.712469073Z"
    }
   }
  },
  {
   "cell_type": "markdown",
   "source": [
    "Матрица ошибок дерева"
   ],
   "metadata": {
    "collapsed": false
   }
  },
  {
   "cell_type": "code",
   "execution_count": 47,
   "outputs": [],
   "source": [
    "from sklearn.metrics import classification_report"
   ],
   "metadata": {
    "collapsed": false
   }
  },
  {
   "cell_type": "code",
   "execution_count": 55,
   "outputs": [
    {
     "name": "stdout",
     "output_type": "stream",
     "text": [
      "Дерево:\n",
      "                 precision    recall  f1-score   support\n",
      "\n",
      "            Low       0.99      0.80      0.88      1962\n",
      "Average or High       0.75      0.99      0.85      1247\n",
      "\n",
      "       accuracy                           0.87      3209\n",
      "      macro avg       0.87      0.89      0.87      3209\n",
      "   weighted avg       0.90      0.87      0.87      3209\n",
      "\n"
     ]
    }
   ],
   "source": [
    "report = classification_report(y_valid, tree_grid.predict(x_valid),\n",
    "                               target_names=['Low', 'Average or High'])\n",
    "print('Дерево:')\n",
    "print(report)"
   ],
   "metadata": {
    "collapsed": false
   }
  },
  {
   "cell_type": "code",
   "execution_count": 46,
   "outputs": [
    {
     "data": {
      "text/plain": "<Figure size 640x480 with 2 Axes>",
      "image/png": "[encoded data removed]"
     },
     "metadata": {},
     "output_type": "display_data"
    }
   ],
   "source": [
    "cm = confusion_matrix(y_valid, knn_grid.predict(x_valid))\n",
    "disp = ConfusionMatrixDisplay(confusion_matrix=cm)\n",
    "disp.plot(cmap='binary')\n",
    "plt.show()"
   ],
   "metadata": {
    "collapsed": false,
    "ExecuteTime": {
     "end_time": "2023-05-01T18:46:44.433386479Z",
     "start_time": "2023-05-01T18:46:44.156532575Z"
    }
   }
  },
  {
   "cell_type": "markdown",
   "source": [
    "Матрица ошибок knn"
   ],
   "metadata": {
    "collapsed": false
   }
  },
  {
   "cell_type": "code",
   "execution_count": 56,
   "outputs": [
    {
     "name": "stdout",
     "output_type": "stream",
     "text": [
      "knn:\n",
      "                 precision    recall  f1-score   support\n",
      "\n",
      "            Low       0.90      0.86      0.88      1962\n",
      "Average or High       0.79      0.85      0.82      1247\n",
      "\n",
      "       accuracy                           0.85      3209\n",
      "      macro avg       0.85      0.85      0.85      3209\n",
      "   weighted avg       0.86      0.85      0.86      3209\n",
      "\n"
     ]
    }
   ],
   "source": [
    "report = classification_report(y_valid, knn_grid.predict(x_valid),\n",
    "                               target_names=['Low', 'Average or High'])\n",
    "print('knn:')\n",
    "print(report)"
   ],
   "metadata": {
    "collapsed": false,
    "ExecuteTime": {
     "end_time": "2023-05-01T18:57:01.007687352Z",
     "start_time": "2023-05-01T18:57:00.875780664Z"
    }
   }
  },
  {
   "cell_type": "code",
   "execution_count": 50,
   "outputs": [],
   "source": [
    "from sklearn.tree import export_graphviz"
   ],
   "metadata": {
    "collapsed": false,
    "ExecuteTime": {
     "end_time": "2023-05-01T18:47:58.343310458Z",
     "start_time": "2023-05-01T18:47:58.287563230Z"
    }
   }
  },
  {
   "cell_type": "code",
   "execution_count": 52,
   "outputs": [],
   "source": [
    "export_graphviz(tree_grid.best_estimator_, out_file='customer_tree.dot',\n",
    "                feature_names=x.columns, filled=True)"
   ],
   "metadata": {
    "collapsed": false,
    "ExecuteTime": {
     "end_time": "2023-05-01T18:48:32.940855778Z",
     "start_time": "2023-05-01T18:48:32.811055827Z"
    }
   }
  },
  {
   "cell_type": "code",
   "execution_count": 53,
   "outputs": [],
   "source": [
    "import pydot\n",
    "\n",
    "graphs = pydot.graph_from_dot_file('customer_tree.dot')\n",
    "graph = graphs[0]"
   ],
   "metadata": {
    "collapsed": false,
    "ExecuteTime": {
     "end_time": "2023-05-01T18:48:52.862165412Z",
     "start_time": "2023-05-01T18:48:52.783317699Z"
    }
   }
  },
  {
   "cell_type": "code",
   "execution_count": 54,
   "outputs": [],
   "source": [
    "graph.write_png('customer_tree.png')"
   ],
   "metadata": {
    "collapsed": false,
    "ExecuteTime": {
     "end_time": "2023-05-01T18:48:54.655075799Z",
     "start_time": "2023-05-01T18:48:54.586680812Z"
    }
   }
  },
  {
   "cell_type": "markdown",
   "source": [
    "<img src=\"customer_tree.png\">"
   ],
   "metadata": {
    "collapsed": false
   }
  },
  {
   "cell_type": "markdown",
   "source": [
    "Как видно из графиков и значений выше, дерево сработало лучше knn, исходя из\n",
    "большинства метрик. Это может быть связано с большим количеством столбцов и\n",
    "необходимостью масштабирования значений. Также можно сделать вывод, что\n",
    "дерево почти безошибочно определяет покупателей, тратящих средне и выше\n",
    "среднего. Однако при этом четверть покупателей, определенных как целевые,\n",
    "оказались покупателями с малыми расходами: с этой задачей knn справился чуть\n",
    "лучше."
   ],
   "metadata": {
    "collapsed": false
   }
  },
  {
   "cell_type": "code",
   "execution_count": null,
   "outputs": [],
   "source": [],
   "metadata": {
    "collapsed": false
   }
  }
 ],
 "metadata": {
  "kernelspec": {
   "display_name": "Python 3 (ipykernel)",
   "language": "python",
   "name": "python3"
  },
  "language_info": {
   "codemirror_mode": {
    "name": "ipython",
    "version": 3
   },
   "file_extension": ".py",
   "mimetype": "text/x-python",
   "name": "python",
   "nbconvert_exporter": "python",
   "pygments_lexer": "ipython3",
   "version": "3.11.3"
  }
 },
 "nbformat": 4,
 "nbformat_minor": 1
}
